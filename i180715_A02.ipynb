{
 "cells": [
  {
   "cell_type": "code",
   "execution_count": 130,
   "metadata": {},
   "outputs": [],
   "source": [
    "class Node:\n",
    "    # Initialize the class\n",
    "    def __init__(self, pos: (), parent: ()):\n",
    "        self.pos = pos\n",
    "        self.parent = parent\n",
    "        self.dist_start = 0\n",
    "        self.dist_goal = 0\n",
    "        self.cost_total = 0  \n",
    "    # Compare nodes\n",
    "    def __eq__(self, obj):\n",
    "        return self.pos == obj.pos\n",
    "    # Sort nodes\n",
    "    def __lt__(self, obj):\n",
    "        return self.cost_total < obj.cost_total\n",
    "    # Print node\n",
    "    def __repr__(self):\n",
    "        return '({0},{1})'.format(self.pos, self.f)"
   ]
  },
  {
   "cell_type": "code",
   "execution_count": 131,
   "metadata": {},
   "outputs": [],
   "source": [
    "def goal_check(curr_node, goal_n, start_n):\n",
    "    if curr_node == goal_n:\n",
    "        path = []\n",
    "        while curr_node != start_n:\n",
    "            path.append(curr_node.pos)\n",
    "            curr_node = curr_node.parent\n",
    "        #reversed path\n",
    "        return path[::-1]\n",
    "    return None"
   ]
  },
  {
   "cell_type": "code",
   "execution_count": 132,
   "metadata": {},
   "outputs": [],
   "source": [
    "def generate_heuristics(neighbour, start_n, goal_n):  \n",
    "    neighbour.dist_start = abs(neighbour.pos[0] - start_n.pos[0]) + abs(\n",
    "        neighbour.pos[1] - start_n.pos[1])\n",
    "    neighbour.dist_goal = abs(neighbour.pos[0] - goal_n.pos[0]) + abs(\n",
    "        neighbour.pos[1] - goal_n.pos[1])\n",
    "    neighbour.cost_total = neighbour.dist_start + neighbour.dist_goal"
   ]
  },
  {
   "cell_type": "code",
   "execution_count": 133,
   "metadata": {},
   "outputs": [],
   "source": [
    "def get_neighbors(x, y):\n",
    "    return [(x - 1, y), (x , y-1), (x, y + 1), (x+1, y)]"
   ]
  },
  {
   "cell_type": "code",
   "execution_count": 134,
   "metadata": {},
   "outputs": [],
   "source": [
    "def insert_op(open_n, neighbour):\n",
    "    for node in open_n:\n",
    "        if neighbour == node and neighbour.cost_total >= node.cost_total:\n",
    "            return False\n",
    "    return True"
   ]
  },
  {
   "cell_type": "code",
   "execution_count": 135,
   "metadata": {},
   "outputs": [],
   "source": [
    "# Greedy search\n",
    "def greedy_best_first_search(map, start, end):\n",
    "    # create lists of nodes\n",
    "    start_n = Node(start, None)\n",
    "    goal_n = Node(end, None)\n",
    "    open_n = list()\n",
    "    closed_n = list()\n",
    "    # Add the start node\n",
    "    open_n.append(start_n)\n",
    "\n",
    "    # Loop until the open list is empty\n",
    "    while len(open_n) > 0:\n",
    "        #Sort the open list to get the node with the lowest cost first\n",
    "        #Get the node with the lowest cost\n",
    "        #Add the current node to the closed list\n",
    "        open_n.sort()\n",
    "        curr_node = open_n.pop(0)\n",
    "        closed_n.append(curr_node)\n",
    "\n",
    "        # Return the path if we have reached the goal, return the path\n",
    "        temp = goal_check(curr_node, goal_n, start_n)\n",
    "        #check for the path\n",
    "        if temp != None:\n",
    "            return temp\n",
    "        \n",
    "        (x, y) = curr_node.pos\n",
    "        neighbours = get_neighbors(x, y)\n",
    "        \n",
    "        for next_neighbour in neighbours:\n",
    "            map_val = map.get(next_neighbour)\n",
    "            if map_val == 0:\n",
    "                continue\n",
    "                \n",
    "            neighbour = Node(next_neighbour, curr_node)\n",
    "            if neighbour in closed_n:\n",
    "                continue\n",
    "                \n",
    "            # Generate heuristics (Manhattan distance)\n",
    "            generate_heuristics(neighbour, start_n, goal_n)\n",
    "            if insert_op(open_n, neighbour):\n",
    "                open_n.append(neighbour)\n",
    "\n",
    "    # No path is found\n",
    "    return None"
   ]
  },
  {
   "cell_type": "code",
   "execution_count": 136,
   "metadata": {},
   "outputs": [],
   "source": [
    "def a_star_search(map, start, end):\n",
    "    # create lists of nodes\n",
    "    start_n = Node(start, None)\n",
    "    goal_n = Node(end, None)\n",
    "    open_n = list()\n",
    "    closed_n = list()\n",
    "    # Add the start node\n",
    "    open_n.append(start_n)\n",
    "\n",
    "    # Loop until the open_n list is empty\n",
    "    while len(open_n) > 0:\n",
    "        #Sort the open list to get the node with the lowest cost first\n",
    "        #Get the node with the lowest cost\n",
    "        #Add the current node to the closed list\n",
    "        open_n.sort()\n",
    "        curr_node = open_n.pop(0)\n",
    "        closed_n.append(curr_node)\n",
    "\n",
    "        # Return the path if we have reached the goal, return the path\n",
    "        temp = goal_check(curr_node, goal_n, start_n)\n",
    "        #check for the path\n",
    "        if temp != None:\n",
    "            return temp\n",
    "        \n",
    "        (x, y) = curr_node.pos\n",
    "        neighbours = get_neighbors(x, y)\n",
    "        \n",
    "        # Loop for next neighbours\n",
    "        for next_neighbour in neighbours:\n",
    "            map_val = map.get(next_neighbour)\n",
    "            if map_val == 0:\n",
    "                continue\n",
    "            neighbour = Node(next_neighbour, curr_node)\n",
    "            if neighbour in closed_n:\n",
    "                continue\n",
    "                \n",
    "            generate_heuristics(neighbour, start_n, goal_n)\n",
    "            if insert_op(open_n, neighbour):\n",
    "                open_n.append(neighbour)\n",
    "                \n",
    "    # No path is found\n",
    "    return None"
   ]
  },
  {
   "cell_type": "code",
   "execution_count": 137,
   "metadata": {},
   "outputs": [],
   "source": [
    "# Get a map (grid)\n",
    "map = {} \n",
    "\n",
    "grid = [[0 ,0 ,0 ,0 ,0 ,0 ,0 ,0 ,0 ,0 ,0 ,0 ,0 ,0 ,0 ,0 ,0 ,0 ,0 ,0,0],\n",
    "    [0 ,0 ,0 ,0 ,0 ,0 ,0 ,0 ,0 ,0 ,0 ,0 ,0 ,0 ,0 ,0 ,0 ,0, 0 ,0,0],\n",
    "    [0 ,0 ,0 ,0, 0, 0, 0, 0, 0, 0, 0, 0, 0, 0, 0, 0, 0, 0, 0, 0,0],\n",
    "    [0 ,0 ,1 ,1 ,1 ,1 ,1 ,1 ,1 ,1 ,1 ,0 ,0 ,1 ,1 ,1 ,1 ,1 ,1 ,1,0],\n",
    "    [0 ,0, 1, 0, 0, 0, 0, 0, 0, 0, 1, 0, 0, 1, 0, 0, 0, 1, 0, 0,0],\n",
    "    [0 ,0 ,1 ,0 ,0 ,0 ,0 ,0 ,0 ,0 ,1 ,1 ,1 ,1 ,0 ,0 ,0 ,1 ,1, 1,0],\n",
    "    [0 ,0, 1, 0, 0, 0, 0, 0, 0, 0, 1, 0, 0, 1, 0 ,0, 0, 1, 0, 1,0],\n",
    "    [0 ,0 ,1 ,1 ,1 ,1 ,0 ,0 ,0 ,0 ,1 ,0 ,0 ,1 ,1 ,1 ,1 ,1 ,0 ,1,0],\n",
    "    [0 ,0, 0, 1, 0, 0, 0, 0, 0, 0, 1, 0, 0, 0, 0, 0, 0, 1, 0, 1,0],\n",
    "    [0 ,0 ,0 ,1 ,0 ,0 ,0 ,0 ,1 ,1 ,1 ,0 ,0 ,0 ,0 ,0 ,0 ,0 ,0 ,1,0],\n",
    "    [0 ,0, 0, 1, 0, 1, 1, 1, 1, 0, 1, 0, 0, 0, 0, 0, 1, 1, 1, 1,0],\n",
    "    [0 ,0 ,1 ,1 ,0 ,1 ,0 ,0 ,1 ,0 ,1 ,1 ,1 ,1 ,1 ,0 ,1 ,0 ,0 ,0,0],\n",
    "    [0 ,0 ,1 ,0, 1, 1, 0, 0, 1, 0, 0, 0, 0, 0, 1, 0, 1, 1, 1, 1,0],\n",
    "    [0 ,0, 1, 0, 1, 1, 1, 0, 1, 0, 0, 0, 0, 0, 1, 0, 1, 0, 0, 0,0],\n",
    "    [1 ,1 ,1 ,1, 0, 0, 1, 0, 1, 0, 0, 0, 0, 0, 1, 0, 0, 0, 1, 1,0],\n",
    "    [0 ,0 ,1 ,0 ,0 ,0 ,1 ,0 ,1 ,0 ,0 ,0 ,0 ,0 ,1 ,1 ,1 ,1, 1, 0,0],\n",
    "    [0, 0, 1, 1, 1, 1, 1, 0, 1, 0, 0, 0, 0, 0, 1, 0, 0, 1, 0, 0,0],\n",
    "    [0 ,0 ,0 ,0 ,0 ,0 ,0 ,0 ,1 ,0 ,0 ,0 ,0 ,0 ,0 ,0 ,0 ,1 ,0 ,0,0],\n",
    "    [0 ,0, 0, 0, 0, 0, 0, 0, 0, 0 ,0, 0, 0, 0, 0, 0, 0, 0, 0, 0,0],\n",
    "    [0 ,0 ,0 ,0 ,0 ,0 ,0 ,0 ,0 ,0 ,0 ,0 ,0 ,0 ,0 ,0 ,0 ,0 ,0, 0,0]]\n",
    "\n",
    "for i in range(20):\n",
    "    for j in range(21):\n",
    "        map[(i,j)] = grid[i][j]"
   ]
  },
  {
   "cell_type": "code",
   "execution_count": 138,
   "metadata": {},
   "outputs": [
    {
     "name": "stdout",
     "output_type": "stream",
     "text": [
      "Algorithm used = “GBFS”\n",
      "\n",
      "\n",
      "[(14, 1), (14, 2), (15, 2), (16, 2), (16, 3), (16, 4), (16, 5), (16, 6), (15, 6), (14, 6), (13, 6), (13, 5), (12, 5), (11, 5), (10, 5), (10, 6), (10, 7), (10, 8), (9, 8), (9, 9), (9, 10), (8, 10), (7, 10), (6, 10), (5, 10), (5, 11), (5, 12), (5, 13), (6, 13), (7, 13), (7, 14), (7, 15), (7, 16), (7, 17), (6, 17), (5, 17), (5, 18), (5, 19), (6, 19), (7, 19), (8, 19), (9, 19), (10, 19), (10, 18), (10, 17), (10, 16), (11, 16), (12, 16), (12, 17), (12, 18), (12, 19)]\n",
      "\n",
      "Steps to goal: 51\n",
      "\n"
     ]
    }
   ],
   "source": [
    "print (\"Algorithm used = “GBFS”\\n\")\n",
    "path = greedy_best_first_search(map, (14,0), (12,19))\n",
    "print()\n",
    "print(path)\n",
    "print()\n",
    "\n",
    "print('Steps to goal: {0}'.format(len(path)))\n",
    "print()"
   ]
  },
  {
   "cell_type": "code",
   "execution_count": 139,
   "metadata": {},
   "outputs": [
    {
     "name": "stdout",
     "output_type": "stream",
     "text": [
      "Algorithm used = “A*”\n",
      "\n",
      "\n",
      "[(14, 1), (14, 2), (15, 2), (16, 2), (16, 3), (16, 4), (16, 5), (16, 6), (15, 6), (14, 6), (13, 6), (13, 5), (12, 5), (11, 5), (10, 5), (10, 6), (10, 7), (10, 8), (9, 8), (9, 9), (9, 10), (8, 10), (7, 10), (6, 10), (5, 10), (5, 11), (5, 12), (5, 13), (6, 13), (7, 13), (7, 14), (7, 15), (7, 16), (7, 17), (6, 17), (5, 17), (5, 18), (5, 19), (6, 19), (7, 19), (8, 19), (9, 19), (10, 19), (10, 18), (10, 17), (10, 16), (11, 16), (12, 16), (12, 17), (12, 18), (12, 19)]\n",
      "\n",
      "Steps to goal: 51\n",
      "\n"
     ]
    }
   ],
   "source": [
    "print(\"Algorithm used = “A*”\\n\")\n",
    "path = a_star_search(map, (14,0) , (12,19))\n",
    "print()\n",
    "print(path)\n",
    "print()\n",
    "\n",
    "print('Steps to goal: {0}'.format(len(path)))\n",
    "print()"
   ]
  }
 ],
 "metadata": {
  "kernelspec": {
   "display_name": "Python 3",
   "language": "python",
   "name": "python3"
  },
  "language_info": {
   "codemirror_mode": {
    "name": "ipython",
    "version": 3
   },
   "file_extension": ".py",
   "mimetype": "text/x-python",
   "name": "python",
   "nbconvert_exporter": "python",
   "pygments_lexer": "ipython3",
   "version": "3.8.5"
  }
 },
 "nbformat": 4,
 "nbformat_minor": 4
}
